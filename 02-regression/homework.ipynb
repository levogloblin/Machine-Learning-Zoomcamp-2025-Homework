{
 "cells": [
  {
   "cell_type": "code",
   "execution_count": 1,
   "id": "e34d6556-c259-4905-bab5-e2e11cf1c6f4",
   "metadata": {},
   "outputs": [],
   "source": [
    "import pandas as pd\n",
    "import numpy as np"
   ]
  },
  {
   "cell_type": "code",
   "execution_count": 2,
   "id": "59c028a9-e9eb-498c-a071-9899456b715b",
   "metadata": {},
   "outputs": [],
   "source": [
    "data = pd.read_csv('https://raw.githubusercontent.com/alexeygrigorev/datasets/master/car_fuel_efficiency.csv')"
   ]
  },
  {
   "cell_type": "code",
   "execution_count": 3,
   "id": "e6017734-2c12-4326-8a97-e52c84af55af",
   "metadata": {},
   "outputs": [],
   "source": [
    "columns = [\n",
    "    'engine_displacement',\n",
    "    'horsepower',\n",
    "    'vehicle_weight',\n",
    "    'model_year',\n",
    "    'fuel_efficiency_mpg'\n",
    "]\n",
    "\n",
    "data = data[columns]"
   ]
  },
  {
   "cell_type": "code",
   "execution_count": 4,
   "id": "aefce4c9-b9e9-4c55-a327-b264a8b6f202",
   "metadata": {},
   "outputs": [
    {
     "data": {
      "text/html": [
       "<div>\n",
       "<style scoped>\n",
       "    .dataframe tbody tr th:only-of-type {\n",
       "        vertical-align: middle;\n",
       "    }\n",
       "\n",
       "    .dataframe tbody tr th {\n",
       "        vertical-align: top;\n",
       "    }\n",
       "\n",
       "    .dataframe thead th {\n",
       "        text-align: right;\n",
       "    }\n",
       "</style>\n",
       "<table border=\"1\" class=\"dataframe\">\n",
       "  <thead>\n",
       "    <tr style=\"text-align: right;\">\n",
       "      <th></th>\n",
       "      <th>engine_displacement</th>\n",
       "      <th>horsepower</th>\n",
       "      <th>vehicle_weight</th>\n",
       "      <th>model_year</th>\n",
       "      <th>fuel_efficiency_mpg</th>\n",
       "    </tr>\n",
       "  </thead>\n",
       "  <tbody>\n",
       "    <tr>\n",
       "      <th>0</th>\n",
       "      <td>170</td>\n",
       "      <td>159.0</td>\n",
       "      <td>3413.433759</td>\n",
       "      <td>2003</td>\n",
       "      <td>13.231729</td>\n",
       "    </tr>\n",
       "    <tr>\n",
       "      <th>1</th>\n",
       "      <td>130</td>\n",
       "      <td>97.0</td>\n",
       "      <td>3149.664934</td>\n",
       "      <td>2007</td>\n",
       "      <td>13.688217</td>\n",
       "    </tr>\n",
       "    <tr>\n",
       "      <th>2</th>\n",
       "      <td>170</td>\n",
       "      <td>78.0</td>\n",
       "      <td>3079.038997</td>\n",
       "      <td>2018</td>\n",
       "      <td>14.246341</td>\n",
       "    </tr>\n",
       "    <tr>\n",
       "      <th>3</th>\n",
       "      <td>220</td>\n",
       "      <td>NaN</td>\n",
       "      <td>2542.392402</td>\n",
       "      <td>2009</td>\n",
       "      <td>16.912736</td>\n",
       "    </tr>\n",
       "    <tr>\n",
       "      <th>4</th>\n",
       "      <td>210</td>\n",
       "      <td>140.0</td>\n",
       "      <td>3460.870990</td>\n",
       "      <td>2009</td>\n",
       "      <td>12.488369</td>\n",
       "    </tr>\n",
       "  </tbody>\n",
       "</table>\n",
       "</div>"
      ],
      "text/plain": [
       "   engine_displacement  horsepower  vehicle_weight  model_year  \\\n",
       "0                  170       159.0     3413.433759        2003   \n",
       "1                  130        97.0     3149.664934        2007   \n",
       "2                  170        78.0     3079.038997        2018   \n",
       "3                  220         NaN     2542.392402        2009   \n",
       "4                  210       140.0     3460.870990        2009   \n",
       "\n",
       "   fuel_efficiency_mpg  \n",
       "0            13.231729  \n",
       "1            13.688217  \n",
       "2            14.246341  \n",
       "3            16.912736  \n",
       "4            12.488369  "
      ]
     },
     "execution_count": 4,
     "metadata": {},
     "output_type": "execute_result"
    }
   ],
   "source": [
    "data.head()"
   ]
  },
  {
   "cell_type": "code",
   "execution_count": 5,
   "id": "ee1edc05-22f4-42b0-9624-fbd986942fd5",
   "metadata": {},
   "outputs": [
    {
     "data": {
      "text/plain": [
       "<Axes: >"
      ]
     },
     "execution_count": 5,
     "metadata": {},
     "output_type": "execute_result"
    },
    {
     "data": {
      "image/png": "[encoded data removed]",
      "text/plain": [
       "<Figure size 640x480 with 1 Axes>"
      ]
     },
     "metadata": {},
     "output_type": "display_data"
    }
   ],
   "source": [
    "data['fuel_efficiency_mpg'].hist()"
   ]
  },
  {
   "cell_type": "code",
   "execution_count": 6,
   "id": "78ca3c1f-ee02-40f5-a1c2-440bfdb072a8",
   "metadata": {},
   "outputs": [
    {
     "data": {
      "text/plain": [
       "np.float64(25.96722204888372)"
      ]
     },
     "execution_count": 6,
     "metadata": {},
     "output_type": "execute_result"
    }
   ],
   "source": [
    "data['fuel_efficiency_mpg'].max()"
   ]
  },
  {
   "cell_type": "markdown",
   "id": "bf52e6d4-bbe4-4817-b0f5-4c9c31ea1299",
   "metadata": {},
   "source": [
    "# Question 1"
   ]
  },
  {
   "cell_type": "code",
   "execution_count": 8,
   "id": "8dddc6f5-385d-4b86-9738-076ff6314d28",
   "metadata": {},
   "outputs": [
    {
     "data": {
      "text/plain": [
       "horsepower    708\n",
       "dtype: int64"
      ]
     },
     "execution_count": 8,
     "metadata": {},
     "output_type": "execute_result"
    }
   ],
   "source": [
    "data.isna().sum()[data.isna().sum() > 0]"
   ]
  },
  {
   "cell_type": "markdown",
   "id": "1f665c77-e926-4a60-93e8-fd6231fdd813",
   "metadata": {},
   "source": [
    "# Question 2"
   ]
  },
  {
   "cell_type": "code",
   "execution_count": 10,
   "id": "11d98406-7656-4ac1-b6a7-1a620f4caaa6",
   "metadata": {},
   "outputs": [
    {
     "data": {
      "text/plain": [
       "np.float64(149.0)"
      ]
     },
     "execution_count": 10,
     "metadata": {},
     "output_type": "execute_result"
    }
   ],
   "source": [
    "data['horsepower'].median()"
   ]
  },
  {
   "cell_type": "markdown",
   "id": "b72ca461-427a-499f-917c-748b824d8cac",
   "metadata": {},
   "source": [
    "Shuffling the data"
   ]
  },
  {
   "cell_type": "code",
   "execution_count": 16,
   "id": "d67e0891-63c9-4493-bdb1-b294ba59bc38",
   "metadata": {},
   "outputs": [],
   "source": [
    "np.random.seed(42)\n",
    "\n",
    "n = len(data)\n",
    "\n",
    "n_val = int(0.2 * n)\n",
    "n_test = int(0.2 * n)\n",
    "n_train = n - (n_val + n_test)\n",
    "\n",
    "idx = np.arange(n)\n",
    "np.random.shuffle(idx)\n",
    "\n",
    "df_shuffled = data.iloc[idx]\n",
    "\n",
    "df_train = df_shuffled.iloc[:n_train].copy()\n",
    "df_val = df_shuffled.iloc[n_train:n_train+n_val].copy()\n",
    "df_test = df_shuffled.iloc[n_train+n_val:].copy()\n",
    "\n",
    "y_train_orig = df_train['fuel_efficiency_mpg'].values\n",
    "y_val_orig = df_val['fuel_efficiency_mpg'].values\n",
    "y_test_orig = df_test['fuel_efficiency_mpg'].values\n",
    "\n",
    "y_train = np.log1p(df_train['fuel_efficiency_mpg'].values)\n",
    "y_val = np.log1p(df_val['fuel_efficiency_mpg'].values)\n",
    "y_test = np.log1p(df_test['fuel_efficiency_mpg'].values)\n",
    "\n",
    "del df_train['fuel_efficiency_mpg']\n",
    "del df_val['fuel_efficiency_mpg']\n",
    "del df_test['fuel_efficiency_mpg']"
   ]
  },
  {
   "cell_type": "markdown",
   "id": "30a5ed18-2b21-4f4b-a1f6-d146163c9e37",
   "metadata": {},
   "source": [
    "# Question 3"
   ]
  },
  {
   "cell_type": "code",
   "execution_count": 17,
   "id": "7013404a-8d7c-4e5c-bfa6-5876d1a0335e",
   "metadata": {},
   "outputs": [],
   "source": [
    "# filling missings function\n",
    "def fill_missing(df_train, df_val, df_test, value):\n",
    "    df_train_new = df_train.fillna(value).values\n",
    "    df_val_new = df_val.fillna(value).values\n",
    "    df_test_new = df_test.fillna(value).values\n",
    "    return df_train_new, df_val_new, df_test_new"
   ]
  },
  {
   "cell_type": "code",
   "execution_count": 18,
   "id": "29452ece-90e6-47ff-9c26-9cbf940480d5",
   "metadata": {},
   "outputs": [],
   "source": [
    "# function for calculating weights of linear regression\n",
    "def train_linear_regression(X, y):\n",
    "    ones = np.ones(X.shape[0])\n",
    "    X = np.column_stack([ones, X])\n",
    "\n",
    "    XTX = X.T.dot(X)\n",
    "    XTX_inv = np.linalg.inv(XTX)\n",
    "    w = XTX_inv.dot(X.T).dot(y)\n",
    "\n",
    "    return w[0], w[1:]"
   ]
  },
  {
   "cell_type": "code",
   "execution_count": 19,
   "id": "1be32608-f9e0-43dd-ac42-c7925faefe0b",
   "metadata": {},
   "outputs": [],
   "source": [
    "# getting predictions\n",
    "def get_prediction(w0_0, w_0, df):\n",
    "    return w0_0 + df.dot(w_0)"
   ]
  },
  {
   "cell_type": "code",
   "execution_count": 20,
   "id": "bd326589-d798-4020-9e2f-be3ebc4e0614",
   "metadata": {},
   "outputs": [],
   "source": [
    "# function for RMSE\n",
    "def rmse(y, y_pred):\n",
    "    error = y_pred - y\n",
    "    mse = (error ** 2).mean()\n",
    "    return round(np.sqrt(mse), 2)"
   ]
  },
  {
   "cell_type": "code",
   "execution_count": 21,
   "id": "e7ee9d13-d931-4260-9d84-fb46ed1146ab",
   "metadata": {},
   "outputs": [
    {
     "data": {
      "text/plain": [
       "np.float64(0.04)"
      ]
     },
     "execution_count": 21,
     "metadata": {},
     "output_type": "execute_result"
    }
   ],
   "source": [
    "df_train_new, df_val_new, df_test_new = fill_missing(df_train, df_val, df_test, 0)\n",
    "w0_0, w_0 = train_linear_regression(df_train_new, y_train)\n",
    "y_pred = get_prediction(w0_0, w_0, df_val_new)\n",
    "rmse(y_val, y_pred)"
   ]
  },
  {
   "cell_type": "code",
   "execution_count": 22,
   "id": "f92b297e-adc1-44c1-8ae9-01bbc37d72a3",
   "metadata": {},
   "outputs": [
    {
     "data": {
      "text/plain": [
       "np.float64(0.04)"
      ]
     },
     "execution_count": 22,
     "metadata": {},
     "output_type": "execute_result"
    }
   ],
   "source": [
    "fp_med_train = np.median(y_train)\n",
    "df_train_med, df_val_med, df_test_med = fill_missing(df_train, df_val, df_test, fp_med_train)\n",
    "w0_0, w_0 = train_linear_regression(df_train_new, y_train)\n",
    "y_pred = get_prediction(w0_0, w_0, df_val_new)\n",
    "rmse(y_val, y_pred)"
   ]
  },
  {
   "cell_type": "markdown",
   "id": "ed811039-050b-4d38-bed5-52cf3d751401",
   "metadata": {},
   "source": [
    "# Question 4"
   ]
  },
  {
   "cell_type": "code",
   "execution_count": 23,
   "id": "7cb28dd9-e053-4292-bcd9-476f4bacc4f7",
   "metadata": {},
   "outputs": [],
   "source": [
    "# function for linear regression with regularization\n",
    "def train_linear_regression_reg(X, y, r=0.0):\n",
    "    ones = np.ones(X.shape[0])\n",
    "    X = np.column_stack([ones, X])\n",
    "\n",
    "    XTX = X.T.dot(X)\n",
    "    reg = r * np.eye(XTX.shape[0])\n",
    "    XTX = XTX + reg\n",
    "\n",
    "    XTX_inv = np.linalg.inv(XTX)\n",
    "    w = XTX_inv.dot(X.T).dot(y)\n",
    "\n",
    "    return w[0], w[1:]"
   ]
  },
  {
   "cell_type": "code",
   "execution_count": 24,
   "id": "ee9380dc-9cde-4127-917f-835ae772b252",
   "metadata": {},
   "outputs": [],
   "source": [
    "r_list = [0, 0.01, 0.1, 1, 5, 10, 100]"
   ]
  },
  {
   "cell_type": "code",
   "execution_count": 29,
   "id": "2a8e9218-7978-45d7-98c8-8339193b48e0",
   "metadata": {},
   "outputs": [],
   "source": [
    "def answer_question4(X, y, X_val, y_val, r_list):\n",
    "    min_rmse = 10**10\n",
    "    min_r = 10**10\n",
    "    for r in r_list:\n",
    "        w_0, w = train_linear_regression_reg(X, y, r)\n",
    "        y_val_pred = w_0 + X_val.dot(w)\n",
    "        rmse_r = round(rmse(y_val, y_val_pred), 2)\n",
    "        if rmse_r < min_rmse:\n",
    "            min_rmse = rmse_r\n",
    "            min_r = r\n",
    "            w0_best = w_0\n",
    "            w_best = w\n",
    "        if rmse_r == min_rmse and r <= min_r:\n",
    "            min_r = r\n",
    "    return min_rmse, min_r, w0_best, w_best"
   ]
  },
  {
   "cell_type": "code",
   "execution_count": 30,
   "id": "b359794f-c31d-4988-9cb6-8ed18df70187",
   "metadata": {},
   "outputs": [
    {
     "data": {
      "text/plain": [
       "0"
      ]
     },
     "execution_count": 30,
     "metadata": {},
     "output_type": "execute_result"
    }
   ],
   "source": [
    "best_rmse, min_r, w_0, w = answer_question4(df_train_new, y_train, df_val_new, y_val, r_list)\n",
    "min_r"
   ]
  },
  {
   "cell_type": "markdown",
   "id": "7116c264-2a7c-44ce-9feb-43a88b02cbcf",
   "metadata": {},
   "source": [
    "# Question 5"
   ]
  },
  {
   "cell_type": "code",
   "execution_count": 31,
   "id": "61038eb8-d656-43f0-b918-ae511662c46e",
   "metadata": {},
   "outputs": [],
   "source": [
    "def question5_answer(df, seed_list):\n",
    "    val_scores = []\n",
    "    for seed in seed_list:\n",
    "        np.random.seed(seed)\n",
    "\n",
    "        l = len(df)\n",
    "\n",
    "        len_train = int(0.6 * l)\n",
    "        len_val = int(0.2 * l)\n",
    "        len_test = l - len_train - len_val\n",
    "\n",
    "        idx = np.arange(l)\n",
    "        np.random.shuffle(idx)\n",
    "\n",
    "        df_shuffled = df.iloc[idx]\n",
    "\n",
    "        df_train = df_shuffled.iloc[:len_train].copy()\n",
    "        df_val = df_shuffled.iloc[len_train:len_train + len_val].copy()\n",
    "        df_test = df_shuffled.iloc[len_train + len_val:].copy()\n",
    "\n",
    "        y_train_orig = df_train['fuel_efficiency_mpg'].values\n",
    "        y_val_orig = df_val['fuel_efficiency_mpg'].values\n",
    "        y_test_orig = df_test['fuel_efficiency_mpg'].values\n",
    "\n",
    "        y_train = y_train_orig\n",
    "        y_val = y_val_orig\n",
    "        y_test = y_test_orig\n",
    "\n",
    "        del df_train['fuel_efficiency_mpg']\n",
    "        del df_val['fuel_efficiency_mpg']\n",
    "        del df_test['fuel_efficiency_mpg']\n",
    "\n",
    "        X_train = df_train.fillna(0).values\n",
    "        X_val = df_val.fillna(0).values\n",
    "        X_test = df_test.fillna(0).values\n",
    "\n",
    "        w_0, w = train_linear_regression(X_train, y_train)\n",
    "        y_pred = w_0 + X_val.dot(w)\n",
    "        val_scores.append(rmse(y_val, y_pred))\n",
    "    return val_scores"
   ]
  },
  {
   "cell_type": "code",
   "execution_count": 32,
   "id": "52755790-baf7-414f-98ca-a114aba60d6c",
   "metadata": {},
   "outputs": [],
   "source": [
    "seed_list = [0, 1, 2, 3, 4, 5, 6, 7, 8, 9]"
   ]
  },
  {
   "cell_type": "code",
   "execution_count": 34,
   "id": "2df6a591-e7db-475d-88d3-800773c59b3e",
   "metadata": {},
   "outputs": [
    {
     "data": {
      "text/plain": [
       "[np.float64(0.52),\n",
       " np.float64(0.52),\n",
       " np.float64(0.52),\n",
       " np.float64(0.52),\n",
       " np.float64(0.51),\n",
       " np.float64(0.53),\n",
       " np.float64(0.53),\n",
       " np.float64(0.51),\n",
       " np.float64(0.51),\n",
       " np.float64(0.51)]"
      ]
     },
     "execution_count": 34,
     "metadata": {},
     "output_type": "execute_result"
    }
   ],
   "source": [
    "val_scores = question5_answer(data, seed_list)\n",
    "val_scores"
   ]
  },
  {
   "cell_type": "code",
   "execution_count": 35,
   "id": "674c6aaf-1663-442b-9012-58cf775ef34e",
   "metadata": {},
   "outputs": [
    {
     "name": "stdout",
     "output_type": "stream",
     "text": [
      "0.007\n"
     ]
    }
   ],
   "source": [
    "print(round(np.std(val_scores), 3))"
   ]
  },
  {
   "cell_type": "markdown",
   "id": "1f943cda-a895-4ed9-bb99-778ad6342fed",
   "metadata": {},
   "source": [
    "# Question 6"
   ]
  },
  {
   "cell_type": "code",
   "execution_count": 36,
   "id": "2c2e6b9c-4795-48b5-85ee-7a49158d50f2",
   "metadata": {},
   "outputs": [],
   "source": [
    "def question6_answer(df, seed, r):\n",
    "    np.random.seed(seed)\n",
    "\n",
    "    l = len(df)\n",
    "\n",
    "    len_train = int(0.6 * l)\n",
    "    len_val = int(0.2 * l)\n",
    "    len_test = l - len_train - len_val\n",
    "\n",
    "    idx = np.arange(l)\n",
    "    np.random.shuffle(idx)\n",
    "\n",
    "    df_shuffled = df.iloc[idx]\n",
    "\n",
    "    df_train = df_shuffled.iloc[:len_train].copy()\n",
    "    df_val = df_shuffled.iloc[len_train:len_train + len_val].copy()\n",
    "    df_test = df_shuffled.iloc[len_train + len_val:].copy()\n",
    "\n",
    "    df_train = pd.concat([df_train, df_val], ignore_index=True)\n",
    "\n",
    "    y_train = df_train['fuel_efficiency_mpg'].values\n",
    "    y_test = df_test['fuel_efficiency_mpg'].values\n",
    "\n",
    "    del df_train['fuel_efficiency_mpg']\n",
    "    del df_test['fuel_efficiency_mpg']\n",
    "\n",
    "    X_train = df_train.fillna(0).values\n",
    "    X_test = df_test.fillna(0).values\n",
    "\n",
    "    w_0, w = train_linear_regression_reg(X_train, y_train, r)\n",
    "    y_pred = w_0 + X_test.dot(w)\n",
    "    \n",
    "    return rmse(y_test, y_pred)"
   ]
  },
  {
   "cell_type": "code",
   "execution_count": 40,
   "id": "fc09be21-e6e5-489b-80e2-b3abb89d6da6",
   "metadata": {},
   "outputs": [
    {
     "data": {
      "text/plain": [
       "(np.float64(0.52), np.float64(0.52))"
      ]
     },
     "execution_count": 40,
     "metadata": {},
     "output_type": "execute_result"
    }
   ],
   "source": [
    "answer = question6_answer(data, 9, 0.001)\n",
    "answer, round(answer, 2)"
   ]
  }
 ],
 "metadata": {
  "kernelspec": {
   "display_name": "Python 3 (ipykernel)",
   "language": "python",
   "name": "python3"
  },
  "language_info": {
   "codemirror_mode": {
    "name": "ipython",
    "version": 3
   },
   "file_extension": ".py",
   "mimetype": "text/x-python",
   "name": "python",
   "nbconvert_exporter": "python",
   "pygments_lexer": "ipython3",
   "version": "3.12.1"
  }
 },
 "nbformat": 4,
 "nbformat_minor": 5
}
